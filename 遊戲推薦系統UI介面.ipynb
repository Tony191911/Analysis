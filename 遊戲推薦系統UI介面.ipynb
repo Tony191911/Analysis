{
 "cells": [
  {
   "cell_type": "code",
   "execution_count": 1,
   "id": "d31877bc",
   "metadata": {},
   "outputs": [],
   "source": [
    "import jieba\n",
    "import pandas as pd\n",
    "import numpy as np\n",
    "from gensim.models import Word2Vec\n",
    "from sklearn.metrics.pairwise import cosine_similarity\n",
    "import tkinter as tk\n",
    "from tkinter import ttk"
   ]
  },
  {
   "cell_type": "code",
   "execution_count": 2,
   "id": "627f9c12",
   "metadata": {},
   "outputs": [],
   "source": [
    "def text_to_vector(text, model):\n",
    "    vector_list = [model.wv[word] for word in text if word in model.wv]\n",
    "    if len(vector_list) == 0:\n",
    "        return np.zeros(model.vector_size)\n",
    "    return np.mean(vector_list, axis=0)\n",
    "\n",
    "def split_text(user_input):\n",
    "    text_generater = jieba.cut(user_input,cut_all=False)\n",
    "    result = ' '.join(text_generater)\n",
    "    return result\n",
    "\n",
    "def convert_str_to_array(s):\n",
    "    return np.fromstring(s[1:-1], sep=' ')\n",
    "word2vec_model = Word2Vec.load(r\"C:\\Users\\fento\\Downloads\\data_cleaned\\word2vec.model\")"
   ]
  },
  {
   "cell_type": "code",
   "execution_count": 3,
   "id": "0b680911",
   "metadata": {},
   "outputs": [],
   "source": [
    "def recommend_games(user_input, games_data, top_n=10):\n",
    "    print(f\"Inside recommend_games with user_input: {user_input}\")\n",
    "    processed_input = split_text(user_input)\n",
    "    input_vector = text_to_vector(processed_input, word2vec_model)\n",
    "    if np.all(input_vector == 0):\n",
    "        return \"Could not process user input.\"\n",
    "    \n",
    "    input_vector = input_vector.reshape(1, -1)\n",
    "    tags_similarity = cosine_similarity(input_vector, np.stack(games_data['tags_vector'].apply(convert_str_to_array)))\n",
    "    description_similarity = cosine_similarity(input_vector, np.stack(games_data['description_vector'].apply(convert_str_to_array)))\n",
    "    reviews_similarity = cosine_similarity(input_vector, np.stack(games_data['reviews_vector'].apply(convert_str_to_array)))\n",
    "    sentiment_score = games_data['Sentiment_Score']\n",
    "    sentiment_score_array = sentiment_score.values.reshape(-1, 1)\n",
    "    tags_weight = 0.3\n",
    "    description_weight = 0.3\n",
    "    reviews_weight = 0.3\n",
    "    sentiment_weight = 0.1\n",
    "\n",
    "    avg_similarity = (tags_similarity * tags_weight + description_similarity * description_weight + \n",
    "                  reviews_similarity * reviews_weight + sentiment_score_array * sentiment_weight) / (tags_weight + description_weight + reviews_weight + sentiment_weight)\n",
    "    \n",
    "    top_n_indices = avg_similarity[0].argsort()[-top_n:][::-1]\n",
    "    top_n_games = games_data.iloc[top_n_indices]\n",
    "    if top_n_games.empty:\n",
    "        return \"No games found.\"\n",
    "    \n",
    "    return top_n_games[['名字', 'tags' , '描述', '價格']]\n",
    "\n",
    "path = 'C:\\\\Users\\\\fento\\\\Downloads\\\\data_cleaned\\\\gamesdata_280_2.xlsx'\n",
    "stop_words_path = 'C:\\\\Users\\\\fento\\\\Downloads\\\\gameID_reviews_cleaned\\\\stop_words_3.txt'\n",
    "games_data = pd.read_excel(path,index_col=0)"
   ]
  },
  {
   "cell_type": "code",
   "execution_count": 4,
   "id": "1b585631",
   "metadata": {},
   "outputs": [
    {
     "name": "stderr",
     "output_type": "stream",
     "text": [
      "Building prefix dict from the default dictionary ...\n",
      "Loading model from cache C:\\Users\\fento\\AppData\\Local\\Temp\\jieba.cache\n"
     ]
    },
    {
     "name": "stdout",
     "output_type": "stream",
     "text": [
      "Inside recommend_games with user_input: 瘋狂殺殭屍\n"
     ]
    },
    {
     "name": "stderr",
     "output_type": "stream",
     "text": [
      "Loading model cost 0.436 seconds.\n",
      "Prefix dict has been built successfully.\n"
     ]
    },
    {
     "name": "stdout",
     "output_type": "stream",
     "text": [
      "Inside recommend_games with user_input: 找一款可以瘋狂殺殭屍 殺到爽的遊戲\n",
      "Inside recommend_games with user_input: 找一款可以瘋狂打殭屍的遊戲\n",
      "Inside recommend_games with user_input: 找一款可以瘋狂射殭屍的遊戲\n",
      "Inside recommend_games with user_input: 找一款瘋狂射殭屍的遊戲\n",
      "Inside recommend_games with user_input: 瘋狂射殭屍的遊戲\n",
      "Inside recommend_games with user_input: 瘋狂射殭屍\n",
      "Inside recommend_games with user_input: 瘋狂射殺殭屍\n"
     ]
    }
   ],
   "source": [
    "# 處理按鈕點擊的函數\n",
    "def on_click():\n",
    "    user_input = user_entry.get()\n",
    "    recommended = recommend_games(user_input, games_data)\n",
    "    result_text.delete('1.0', tk.END)  # 清空先前的推薦結果\n",
    "    if isinstance(recommended, str):\n",
    "        # 如果是字符串（表示出錯或找不到遊戲），直接顯示\n",
    "        result_text.insert(tk.END, recommended)\n",
    "    else:\n",
    "        # 將 DataFrame 轉換為字符串以顯示在 Text 控件上\n",
    "        text_to_display = \"\"\n",
    "        for _, row in recommended.iterrows():\n",
    "            text_to_display += f\"名字：{row['名字']}\\ntags：{row['tags']}\\n描述：{row['描述']}\\n價格：{row['價格']}\\n---\\n\\n\"\n",
    "        result_text.insert(tk.END, text_to_display)\n",
    "\n",
    "# 初始化 Tkinter\n",
    "root = tk.Tk()\n",
    "root.title(\"遊戲推薦系統\")\n",
    "\n",
    "# 添加標籤和文本框\n",
    "prompt_label = ttk.Label(root, text=\"請輸入您喜歡的遊戲類型或特點：\")\n",
    "prompt_label.pack(pady=10)\n",
    "user_entry = ttk.Entry(root, width=80)\n",
    "user_entry.pack(pady=10)\n",
    "\n",
    "# 添加按鈕\n",
    "recommend_button = ttk.Button(root, text=\"獲得推薦\", command=on_click)\n",
    "recommend_button.pack(pady=10)\n",
    "\n",
    "# 添加用於顯示推薦結果的標籤\n",
    "result_label = ttk.Label(root, text=\"\")\n",
    "result_label.pack(pady=10)\n",
    "\n",
    "result_text = tk.Text(root, wrap=tk.WORD, width=80, height=30)\n",
    "result_text.pack(side=tk.LEFT, fill=tk.Y)\n",
    "scrollbar = ttk.Scrollbar(root, orient=tk.VERTICAL, command=result_text.yview)\n",
    "scrollbar.pack(side=tk.RIGHT, fill=tk.Y)\n",
    "result_text.config(yscrollcommand=scrollbar.set)\n",
    "\n",
    "# 運行 GUI\n",
    "root.mainloop()"
   ]
  },
  {
   "cell_type": "code",
   "execution_count": null,
   "id": "d141b932",
   "metadata": {},
   "outputs": [],
   "source": []
  }
 ],
 "metadata": {
  "kernelspec": {
   "display_name": "Python 3 (ipykernel)",
   "language": "python",
   "name": "python3"
  },
  "language_info": {
   "codemirror_mode": {
    "name": "ipython",
    "version": 3
   },
   "file_extension": ".py",
   "mimetype": "text/x-python",
   "name": "python",
   "nbconvert_exporter": "python",
   "pygments_lexer": "ipython3",
   "version": "3.10.9"
  }
 },
 "nbformat": 4,
 "nbformat_minor": 5
}
